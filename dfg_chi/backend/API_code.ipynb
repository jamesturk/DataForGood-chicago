{
 "cells": [
  {
   "cell_type": "code",
   "execution_count": 10,
   "metadata": {},
   "outputs": [],
   "source": [
    "import requests\n",
    "import csv\n",
    "\n",
    "# Base URL for the ACS data\n",
    "base_url = \"https://api.census.gov/data/{year}/acs/acs5\"\n",
    "\n",
    "# Variables to fetch\n",
    "\n",
    "#Houserent\n",
    "variables = {'total_rent': \"NAME,B25060_001E\", 'median_rent': \"NAME,B25058_001E\", \n",
    "             'lower_rent': \"NAME,B25057_001E\", 'upper_rent': \"NAME,B25059_001E\"}\n",
    "\n",
    "# Location filters\n",
    "location = \"for=tract:*&in=state:17+county:031\"\n"
   ]
  },
  {
   "cell_type": "code",
   "execution_count": 9,
   "metadata": {},
   "outputs": [
    {
     "name": "stdout",
     "output_type": "stream",
     "text": [
      "Data for 2015 for total_rent has been written to /home/yujie0706/DataForGood-chicago/dfg_chi/backend/data_downloaded/Housing/ContractRent/total_rent_2015.csv\n",
      "Data for 2016 for total_rent has been written to /home/yujie0706/DataForGood-chicago/dfg_chi/backend/data_downloaded/Housing/ContractRent/total_rent_2016.csv\n",
      "Data for 2017 for total_rent has been written to /home/yujie0706/DataForGood-chicago/dfg_chi/backend/data_downloaded/Housing/ContractRent/total_rent_2017.csv\n",
      "Data for 2018 for total_rent has been written to /home/yujie0706/DataForGood-chicago/dfg_chi/backend/data_downloaded/Housing/ContractRent/total_rent_2018.csv\n",
      "Data for 2019 for total_rent has been written to /home/yujie0706/DataForGood-chicago/dfg_chi/backend/data_downloaded/Housing/ContractRent/total_rent_2019.csv\n",
      "Data for 2020 for total_rent has been written to /home/yujie0706/DataForGood-chicago/dfg_chi/backend/data_downloaded/Housing/ContractRent/total_rent_2020.csv\n",
      "Data for 2021 for total_rent has been written to /home/yujie0706/DataForGood-chicago/dfg_chi/backend/data_downloaded/Housing/ContractRent/total_rent_2021.csv\n",
      "Data for 2022 for total_rent has been written to /home/yujie0706/DataForGood-chicago/dfg_chi/backend/data_downloaded/Housing/ContractRent/total_rent_2022.csv\n",
      "Data for 2015 for median_rent has been written to /home/yujie0706/DataForGood-chicago/dfg_chi/backend/data_downloaded/Housing/ContractRent/median_rent_2015.csv\n",
      "Data for 2016 for median_rent has been written to /home/yujie0706/DataForGood-chicago/dfg_chi/backend/data_downloaded/Housing/ContractRent/median_rent_2016.csv\n",
      "Data for 2017 for median_rent has been written to /home/yujie0706/DataForGood-chicago/dfg_chi/backend/data_downloaded/Housing/ContractRent/median_rent_2017.csv\n",
      "Data for 2018 for median_rent has been written to /home/yujie0706/DataForGood-chicago/dfg_chi/backend/data_downloaded/Housing/ContractRent/median_rent_2018.csv\n",
      "Data for 2019 for median_rent has been written to /home/yujie0706/DataForGood-chicago/dfg_chi/backend/data_downloaded/Housing/ContractRent/median_rent_2019.csv\n",
      "Data for 2020 for median_rent has been written to /home/yujie0706/DataForGood-chicago/dfg_chi/backend/data_downloaded/Housing/ContractRent/median_rent_2020.csv\n",
      "Data for 2021 for median_rent has been written to /home/yujie0706/DataForGood-chicago/dfg_chi/backend/data_downloaded/Housing/ContractRent/median_rent_2021.csv\n",
      "Data for 2022 for median_rent has been written to /home/yujie0706/DataForGood-chicago/dfg_chi/backend/data_downloaded/Housing/ContractRent/median_rent_2022.csv\n",
      "Data for 2015 for lower_rent has been written to /home/yujie0706/DataForGood-chicago/dfg_chi/backend/data_downloaded/Housing/ContractRent/lower_rent_2015.csv\n",
      "Data for 2016 for lower_rent has been written to /home/yujie0706/DataForGood-chicago/dfg_chi/backend/data_downloaded/Housing/ContractRent/lower_rent_2016.csv\n",
      "Data for 2017 for lower_rent has been written to /home/yujie0706/DataForGood-chicago/dfg_chi/backend/data_downloaded/Housing/ContractRent/lower_rent_2017.csv\n",
      "Data for 2018 for lower_rent has been written to /home/yujie0706/DataForGood-chicago/dfg_chi/backend/data_downloaded/Housing/ContractRent/lower_rent_2018.csv\n",
      "Data for 2019 for lower_rent has been written to /home/yujie0706/DataForGood-chicago/dfg_chi/backend/data_downloaded/Housing/ContractRent/lower_rent_2019.csv\n",
      "Data for 2020 for lower_rent has been written to /home/yujie0706/DataForGood-chicago/dfg_chi/backend/data_downloaded/Housing/ContractRent/lower_rent_2020.csv\n",
      "Data for 2021 for lower_rent has been written to /home/yujie0706/DataForGood-chicago/dfg_chi/backend/data_downloaded/Housing/ContractRent/lower_rent_2021.csv\n",
      "Data for 2022 for lower_rent has been written to /home/yujie0706/DataForGood-chicago/dfg_chi/backend/data_downloaded/Housing/ContractRent/lower_rent_2022.csv\n",
      "Data for 2015 for upper_rent has been written to /home/yujie0706/DataForGood-chicago/dfg_chi/backend/data_downloaded/Housing/ContractRent/upper_rent_2015.csv\n",
      "Data for 2016 for upper_rent has been written to /home/yujie0706/DataForGood-chicago/dfg_chi/backend/data_downloaded/Housing/ContractRent/upper_rent_2016.csv\n",
      "Data for 2017 for upper_rent has been written to /home/yujie0706/DataForGood-chicago/dfg_chi/backend/data_downloaded/Housing/ContractRent/upper_rent_2017.csv\n",
      "Data for 2018 for upper_rent has been written to /home/yujie0706/DataForGood-chicago/dfg_chi/backend/data_downloaded/Housing/ContractRent/upper_rent_2018.csv\n",
      "Data for 2019 for upper_rent has been written to /home/yujie0706/DataForGood-chicago/dfg_chi/backend/data_downloaded/Housing/ContractRent/upper_rent_2019.csv\n",
      "Data for 2020 for upper_rent has been written to /home/yujie0706/DataForGood-chicago/dfg_chi/backend/data_downloaded/Housing/ContractRent/upper_rent_2020.csv\n",
      "Data for 2021 for upper_rent has been written to /home/yujie0706/DataForGood-chicago/dfg_chi/backend/data_downloaded/Housing/ContractRent/upper_rent_2021.csv\n",
      "Data for 2022 for upper_rent has been written to /home/yujie0706/DataForGood-chicago/dfg_chi/backend/data_downloaded/Housing/ContractRent/upper_rent_2022.csv\n"
     ]
    }
   ],
   "source": [
    "# Process each year from 2015 to 2019\n",
    "for name, variable in variables.items():    \n",
    "    for year in range(2015, 2023):\n",
    "        # Construct the URL for the current year\n",
    "        url = f\"{base_url.format(year=year)}?get={variable}&{location}\"\n",
    "\n",
    "        # Make the request\n",
    "        response = requests.get(url)\n",
    "        data = response.json()\n",
    "\n",
    "        # Specify the path to save the CSV file, one for each year\n",
    "        file_path = f'/home/yujie0706/DataForGood-chicago/dfg_chi/backend/data_downloaded/Housing/ContractRent/{name}_{year}.csv'\n",
    "        \n",
    "        # Open a CSV file for writing for each year\n",
    "        with open(file_path, mode='w', newline='') as file:\n",
    "            writer = csv.writer(file)\n",
    "\n",
    "            # Write the data into the CSV file\n",
    "            writer.writerows(data)\n",
    "\n",
    "        print(f\"Data for {year} for {name} has been written to {file_path}\")\n"
   ]
  }
 ],
 "metadata": {
  "kernelspec": {
   "display_name": "Python 3",
   "language": "python",
   "name": "python3"
  },
  "language_info": {
   "codemirror_mode": {
    "name": "ipython",
    "version": 3
   },
   "file_extension": ".py",
   "mimetype": "text/x-python",
   "name": "python",
   "nbconvert_exporter": "python",
   "pygments_lexer": "ipython3",
   "version": "3.8.10"
  }
 },
 "nbformat": 4,
 "nbformat_minor": 2
}
