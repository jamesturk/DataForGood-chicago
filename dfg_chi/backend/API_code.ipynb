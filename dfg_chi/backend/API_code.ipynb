{
 "cells": [
  {
   "cell_type": "code",
   "execution_count": 26,
   "metadata": {},
   "outputs": [],
   "source": [
    "import requests\n",
    "import csv\n",
    "import pandas as pd\n",
    "import os\n",
    "import re\n",
    "\n",
    "# Base URL for the ACS data\n",
    "base_url = \"https://api.census.gov/data/{year}/acs/acs5\"\n",
    "\n",
    "# Variables to fetch\n",
    "\n",
    "#Houserent\n",
    "variables = {'main_agg_rent': \"NAME,B25060_001E\", 'sub_median_rent': \"NAME,B25058_001E\", \n",
    "             'sub_lower_rent': \"NAME,B25057_001E\", 'sub_upper_rent': \"NAME,B25059_001E\"}\n",
    "\n",
    "# Location filters\n",
    "location = \"for=tract:*&in=state:17+county:031\""
   ]
  },
  {
   "cell_type": "code",
   "execution_count": 30,
   "metadata": {},
   "outputs": [],
   "source": [
    "def extract_info_from_filename(filename, prefix):\n",
    "    if prefix == 'main':\n",
    "        indicator_name = filename[5:-5]\n",
    "        year = filename[-4:]\n",
    "    else:\n",
    "        indicator_name = filename[4:-5]\n",
    "        year = filename[-4:]\n",
    "    return indicator_name, year\n",
    "\n",
    "all_dataframes = []"
   ]
  },
  {
   "cell_type": "code",
   "execution_count": 34,
   "metadata": {},
   "outputs": [
    {
     "name": "stdout",
     "output_type": "stream",
     "text": [
      "agg_rent\n",
      "('agg_rent', '2015')\n"
     ]
    }
   ],
   "source": [
    "name = 'main_agg_rent_2015'\n",
    "print(extract_info_from_filename(name, 'main'))"
   ]
  },
  {
   "cell_type": "code",
   "execution_count": 32,
   "metadata": {},
   "outputs": [
    {
     "name": "stdout",
     "output_type": "stream",
     "text": [
      "main\n",
      "Data for 2015 for main_agg_rent has been written to /home/yujie0706/DataForGood-chicago/dfg_chi/backend/data_downloaded/Housing/ContractRent/main/main_agg_rent_2015.csv\n",
      "Data for 2016 for main_agg_rent has been written to /home/yujie0706/DataForGood-chicago/dfg_chi/backend/data_downloaded/Housing/ContractRent/main/main_agg_rent_2016.csv\n",
      "Data for 2017 for main_agg_rent has been written to /home/yujie0706/DataForGood-chicago/dfg_chi/backend/data_downloaded/Housing/ContractRent/main/main_agg_rent_2017.csv\n",
      "Data for 2018 for main_agg_rent has been written to /home/yujie0706/DataForGood-chicago/dfg_chi/backend/data_downloaded/Housing/ContractRent/main/main_agg_rent_2018.csv\n",
      "Data for 2019 for main_agg_rent has been written to /home/yujie0706/DataForGood-chicago/dfg_chi/backend/data_downloaded/Housing/ContractRent/main/main_agg_rent_2019.csv\n",
      "Data for 2020 for main_agg_rent has been written to /home/yujie0706/DataForGood-chicago/dfg_chi/backend/data_downloaded/Housing/ContractRent/main/main_agg_rent_2020.csv\n",
      "Data for 2021 for main_agg_rent has been written to /home/yujie0706/DataForGood-chicago/dfg_chi/backend/data_downloaded/Housing/ContractRent/main/main_agg_rent_2021.csv\n",
      "Data for 2022 for main_agg_rent has been written to /home/yujie0706/DataForGood-chicago/dfg_chi/backend/data_downloaded/Housing/ContractRent/main/main_agg_rent_2022.csv\n",
      "agg_rent_202\n"
     ]
    },
    {
     "ename": "ValueError",
     "evalue": "invalid literal for int() with base 10: '.csv'",
     "output_type": "error",
     "traceback": [
      "\u001b[0;31m---------------------------------------------------------------------------\u001b[0m",
      "\u001b[0;31mValueError\u001b[0m                                Traceback (most recent call last)",
      "\u001b[1;32m/home/yujie0706/DataForGood-chicago/dfg_chi/backend/API_code.ipynb Cell 3\u001b[0m line \u001b[0;36m4\n\u001b[1;32m     <a href='vscode-notebook-cell://ssh-remote%2Buchicago/home/yujie0706/DataForGood-chicago/dfg_chi/backend/API_code.ipynb#W2sdnNjb2RlLXJlbW90ZQ%3D%3D?line=36'>37</a>\u001b[0m             df \u001b[39m=\u001b[39m pd\u001b[39m.\u001b[39mread_csv(filepath)\n\u001b[1;32m     <a href='vscode-notebook-cell://ssh-remote%2Buchicago/home/yujie0706/DataForGood-chicago/dfg_chi/backend/API_code.ipynb#W2sdnNjb2RlLXJlbW90ZQ%3D%3D?line=37'>38</a>\u001b[0m             \u001b[39m# Create a new DataFrame with the required columns\u001b[39;00m\n\u001b[1;32m     <a href='vscode-notebook-cell://ssh-remote%2Buchicago/home/yujie0706/DataForGood-chicago/dfg_chi/backend/API_code.ipynb#W2sdnNjb2RlLXJlbW90ZQ%3D%3D?line=38'>39</a>\u001b[0m             new_df \u001b[39m=\u001b[39m pd\u001b[39m.\u001b[39mDataFrame({\n\u001b[1;32m     <a href='vscode-notebook-cell://ssh-remote%2Buchicago/home/yujie0706/DataForGood-chicago/dfg_chi/backend/API_code.ipynb#W2sdnNjb2RlLXJlbW90ZQ%3D%3D?line=39'>40</a>\u001b[0m                 \u001b[39m'\u001b[39m\u001b[39mcensus_tract_id\u001b[39m\u001b[39m'\u001b[39m: df[\u001b[39m'\u001b[39m\u001b[39mtract\u001b[39m\u001b[39m'\u001b[39m]\u001b[39m.\u001b[39mastype(\u001b[39mint\u001b[39m),\n\u001b[1;32m     <a href='vscode-notebook-cell://ssh-remote%2Buchicago/home/yujie0706/DataForGood-chicago/dfg_chi/backend/API_code.ipynb#W2sdnNjb2RlLXJlbW90ZQ%3D%3D?line=40'>41</a>\u001b[0m                 \u001b[39m'\u001b[39m\u001b[39mindicator_name\u001b[39m\u001b[39m'\u001b[39m: indicator_name,\n\u001b[1;32m     <a href='vscode-notebook-cell://ssh-remote%2Buchicago/home/yujie0706/DataForGood-chicago/dfg_chi/backend/API_code.ipynb#W2sdnNjb2RlLXJlbW90ZQ%3D%3D?line=41'>42</a>\u001b[0m                 \u001b[39m'\u001b[39m\u001b[39mvalue\u001b[39m\u001b[39m'\u001b[39m: df\u001b[39m.\u001b[39miloc[:, \u001b[39m1\u001b[39m]\u001b[39m.\u001b[39mfillna(\u001b[39m0\u001b[39m)\u001b[39m.\u001b[39mastype(\u001b[39mint\u001b[39m),  \u001b[39m# Assuming value is in the second column\u001b[39;00m\n\u001b[0;32m---> <a href='vscode-notebook-cell://ssh-remote%2Buchicago/home/yujie0706/DataForGood-chicago/dfg_chi/backend/API_code.ipynb#W2sdnNjb2RlLXJlbW90ZQ%3D%3D?line=42'>43</a>\u001b[0m                 \u001b[39m'\u001b[39m\u001b[39myear\u001b[39m\u001b[39m'\u001b[39m: \u001b[39mint\u001b[39;49m(year)\n\u001b[1;32m     <a href='vscode-notebook-cell://ssh-remote%2Buchicago/home/yujie0706/DataForGood-chicago/dfg_chi/backend/API_code.ipynb#W2sdnNjb2RlLXJlbW90ZQ%3D%3D?line=43'>44</a>\u001b[0m             })\n\u001b[1;32m     <a href='vscode-notebook-cell://ssh-remote%2Buchicago/home/yujie0706/DataForGood-chicago/dfg_chi/backend/API_code.ipynb#W2sdnNjb2RlLXJlbW90ZQ%3D%3D?line=44'>45</a>\u001b[0m             all_dataframes\u001b[39m.\u001b[39mappend(new_df)\n\u001b[1;32m     <a href='vscode-notebook-cell://ssh-remote%2Buchicago/home/yujie0706/DataForGood-chicago/dfg_chi/backend/API_code.ipynb#W2sdnNjb2RlLXJlbW90ZQ%3D%3D?line=46'>47</a>\u001b[0m \u001b[39m# Concatenate all DataFrames\u001b[39;00m\n",
      "\u001b[0;31mValueError\u001b[0m: invalid literal for int() with base 10: '.csv'"
     ]
    }
   ],
   "source": [
    "# Process each year from 2015 to 2019\n",
    "for name, variable in variables.items():    \n",
    "\n",
    "    ind_type = name.split('_')[0]\n",
    "    print(ind_type)\n",
    "\n",
    "    for year in range(2015, 2023):\n",
    "        # Construct the URL for the current year\n",
    "        url = f\"{base_url.format(year=year)}?get={variable}&{location}\"\n",
    "\n",
    "        # Make the request\n",
    "        response = requests.get(url)\n",
    "        data = response.json()\n",
    "\n",
    "        # Specify the path to save the CSV file, one for each year\n",
    "        file_path = f'/home/yujie0706/DataForGood-chicago/dfg_chi/backend/data_downloaded/Housing/ContractRent/{ind_type}/{name}_{year}.csv'\n",
    "        \n",
    "        # Open a CSV file for writing for each year\n",
    "        with open(file_path, mode='w', newline='') as file:\n",
    "            writer = csv.writer(file)\n",
    "\n",
    "            # Write the data into the CSV file\n",
    "            writer.writerows(data)\n",
    "\n",
    "        print(f\"Data for {year} for {name} has been written to {file_path}\")\n",
    "    \n",
    "    short_dir = f'/home/yujie0706/DataForGood-chicago/dfg_chi/backend/data_downloaded/Housing/ContractRent/{ind_type}'\n",
    "    \n",
    "    if ind_type == 'main':    \n",
    "        for filename in os.listdir(short_dir):\n",
    "            if filename.endswith('.csv'):\n",
    "                filepath = os.path.join(short_dir, filename)\n",
    "            \n",
    "                indicator_name, year = extract_info_from_filename(filename, ind_type)\n",
    "\n",
    "                if indicator_name and year:\n",
    "                    df = pd.read_csv(filepath)\n",
    "                    # Create a new DataFrame with the required columns\n",
    "                    new_df = pd.DataFrame({\n",
    "                        'census_tract_id': df['tract'].astype(int),\n",
    "                        'indicator_name': indicator_name,\n",
    "                        'value': df.iloc[:, 1].fillna(0).astype(int),  # Assuming value is in the second column\n",
    "                        'year': int(year)\n",
    "                    })\n",
    "                    all_dataframes.append(new_df)\n",
    "\n",
    "        # Concatenate all DataFrames\n",
    "        final_dataframe = pd.concat(all_dataframes)\n",
    "\n",
    "        # Save to a new CSV file\n",
    "        final_dataframe.to_csv('/path/to/save/aggregated_data.csv', index=False)"
   ]
  },
  {
   "cell_type": "code",
   "execution_count": null,
   "metadata": {},
   "outputs": [],
   "source": []
  }
 ],
 "metadata": {
  "kernelspec": {
   "display_name": "Python 3",
   "language": "python",
   "name": "python3"
  },
  "language_info": {
   "codemirror_mode": {
    "name": "ipython",
    "version": 3
   },
   "file_extension": ".py",
   "mimetype": "text/x-python",
   "name": "python",
   "nbconvert_exporter": "python",
   "pygments_lexer": "ipython3",
   "version": "3.8.10"
  }
 },
 "nbformat": 4,
 "nbformat_minor": 2
}
