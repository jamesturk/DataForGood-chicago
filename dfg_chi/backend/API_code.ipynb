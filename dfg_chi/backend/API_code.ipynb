{
 "cells": [
  {
   "cell_type": "code",
   "execution_count": 3,
   "metadata": {},
   "outputs": [
    {
     "name": "stdout",
     "output_type": "stream",
     "text": [
      "Data for 2015 has been written to /home/yujie0706/DataForGood-chicago/dfg_chi/backend/data_downloaded/householdType_2015.csv\n",
      "Data for 2016 has been written to /home/yujie0706/DataForGood-chicago/dfg_chi/backend/data_downloaded/householdType_2016.csv\n",
      "Data for 2017 has been written to /home/yujie0706/DataForGood-chicago/dfg_chi/backend/data_downloaded/householdType_2017.csv\n",
      "Data for 2018 has been written to /home/yujie0706/DataForGood-chicago/dfg_chi/backend/data_downloaded/householdType_2018.csv\n",
      "Data for 2019 has been written to /home/yujie0706/DataForGood-chicago/dfg_chi/backend/data_downloaded/householdType_2019.csv\n"
     ]
    }
   ],
   "source": [
    "import requests\n",
    "import csv\n",
    "\n",
    "# Base URL for the ACS data\n",
    "base_url = \"https://api.census.gov/data/{year}/acs/acs5\"\n",
    "\n",
    "# Variables to fetch\n",
    "variables = \"NAME,B11001_002E\"\n",
    "\n",
    "# Location filters\n",
    "location = \"for=tract:*&in=state:17+county:031\"\n",
    "\n",
    "# Process each year from 2015 to 2019\n",
    "for year in range(2015, 2020):\n",
    "    # Construct the URL for the current year\n",
    "    url = f\"{base_url.format(year=year)}?get={variables}&{location}\"\n",
    "\n",
    "    # Make the request\n",
    "    response = requests.get(url)\n",
    "    data = response.json()\n",
    "\n",
    "    # Specify the path to save the CSV file, one for each year\n",
    "    file_path = f'/home/yujie0706/DataForGood-chicago/dfg_chi/backend/data_downloaded/householdType_{year}.csv'\n",
    "    \n",
    "    # Open a CSV file for writing for each year\n",
    "    with open(file_path, mode='w', newline='') as file:\n",
    "        writer = csv.writer(file)\n",
    "\n",
    "        # Write the data into the CSV file\n",
    "        writer.writerows(data)\n",
    "\n",
    "    print(f\"Data for {year} has been written to {file_path}\")\n"
   ]
  }
 ],
 "metadata": {
  "kernelspec": {
   "display_name": "Python 3",
   "language": "python",
   "name": "python3"
  },
  "language_info": {
   "codemirror_mode": {
    "name": "ipython",
    "version": 3
   },
   "file_extension": ".py",
   "mimetype": "text/x-python",
   "name": "python",
   "nbconvert_exporter": "python",
   "pygments_lexer": "ipython3",
   "version": "3.8.10"
  }
 },
 "nbformat": 4,
 "nbformat_minor": 2
}
